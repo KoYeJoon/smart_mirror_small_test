{
 "cells": [
  {
   "cell_type": "code",
   "execution_count": null,
   "metadata": {},
   "outputs": [],
   "source": [
    "pip install --upgrade azure-cognitiveservices-vision-face"
   ]
  },
  {
   "cell_type": "code",
   "execution_count": 4,
   "metadata": {},
   "outputs": [
    {
     "name": "stdout",
     "output_type": "stream",
     "text": [
      "Requirement already satisfied: python-dotenv in /Users/yejoonko/.pyenv/versions/anaconda3-5.3.1/lib/python3.7/site-packages (0.15.0)\n",
      "\u001b[33mWARNING: You are using pip version 20.1.1; however, version 21.0.1 is available.\n",
      "You should consider upgrading via the '/Users/yejoonko/.pyenv/versions/anaconda3-5.3.1/bin/python -m pip install --upgrade pip' command.\u001b[0m\n",
      "Note: you may need to restart the kernel to use updated packages.\n"
     ]
    }
   ],
   "source": [
    "pip install python-dotenv"
   ]
  },
  {
   "cell_type": "code",
   "execution_count": 1,
   "metadata": {},
   "outputs": [],
   "source": [
    "import asyncio\n",
    "import io\n",
    "import glob\n",
    "import sys\n",
    "import time\n",
    "import uuid\n",
    "import requests\n",
    "from urllib.parse import urlparse\n",
    "from io import BytesIO\n",
    "# To install this module, run:\n",
    "# python -m pip install Pillow\n",
    "from PIL import Image, ImageDraw\n",
    "from azure.cognitiveservices.vision.face import FaceClient\n",
    "from msrest.authentication import CognitiveServicesCredentials\n",
    "from azure.cognitiveservices.vision.face.models import TrainingStatusType, Person"
   ]
  },
  {
   "cell_type": "code",
   "execution_count": 2,
   "metadata": {},
   "outputs": [],
   "source": [
    "import os\n",
    "from dotenv import load_dotenv\n",
    "load_dotenv()\n",
    "# This key will serve all examples in this document.\n",
    "KEY = os.getenv(\"AZURE_KEY\")\n",
    "\n",
    "# This endpoint will be used in all examples in this quickstart.\n",
    "ENDPOINT = os.getenv(\"AZURE_ENDPOINT\")"
   ]
  },
  {
   "cell_type": "code",
   "execution_count": 3,
   "metadata": {},
   "outputs": [],
   "source": [
    "# Create an authenticated FaceClient.\n",
    "face_client = FaceClient(ENDPOINT, CognitiveServicesCredentials(KEY))"
   ]
  },
  {
   "cell_type": "code",
   "execution_count": 7,
   "metadata": {},
   "outputs": [],
   "source": [
    "# # Detect a face in an image that contains a single face\n",
    "# single_face_image_url = 'https://www.biography.com/.image/t_share/MTQ1MzAyNzYzOTgxNTE0NTEz/john-f-kennedy---mini-biography.jpg'\n",
    "# single_image_name = os.path.basename(single_face_image_url)\n",
    "# # We use detection model 3 to get better performance.\n",
    "# detected_faces = face_client.face.detect_with_url(url=single_face_image_url, detection_model='detection_03')\n",
    "# if not detected_faces:\n",
    "#     raise Exception('No face detected from image {}'.format(single_image_name))\n",
    "\n",
    "# # Display the detected face ID in the first single-face image.\n",
    "# # Face IDs are used for comparison to faces (their IDs) detected in other images.\n",
    "# print('Detected face ID from', single_image_name, ':')\n",
    "# for face in detected_faces: print (face.face_id)\n",
    "# print()\n",
    "\n",
    "# # Save this ID for use in Find Similar\n",
    "# first_image_face_ID = detected_faces[0].face_id"
   ]
  },
  {
   "cell_type": "code",
   "execution_count": 8,
   "metadata": {},
   "outputs": [],
   "source": [
    "# Detect a face in an image that contains a single face\n",
    "#single_face_image_url = 'https://raw.githubusercontent.com/Microsoft/Cognitive-Face-Windows/master/Data/detection1.jpg'\n",
    "#single_image_name = os.path.basename(single_face_image_url)\n",
    "# We use detection model 3 to get better performance.\n",
    "# detected_faces = face_client.face.detect_with_url(url=single_face_image_url, detection_model='detection_03')\n",
    "\n",
    "#if not detected_faces:\n",
    "#    raise Exception('No face detected from image {}'.format(single_image_name))\n",
    "\n",
    "# Convert width height to a point in a rectangle\n",
    "# def getRectangle(faceDictionary):\n",
    "#     rect = faceDictionary.face_rectangle\n",
    "#     left = rect.left\n",
    "#     top = rect.top\n",
    "#     right = left + rect.width\n",
    "#     bottom = top + rect.height\n",
    "    \n",
    "#     return ((left, top), (right, bottom))\n",
    "\n",
    "\n",
    "# Download the image from the url\n",
    "# response = requests.get(single_face_image_url)\n",
    "# img = Image.open(BytesIO(response.content))\n",
    "# img = Image.open(\"/Users/yejoonko/dataset/SW_Project/test/sunho1.jpeg\")\n",
    "\n",
    "# For each face returned use the face rectangle and draw a red box.\n",
    "# img_url = '/Users/yejoonko/dataset/SW_Project/test/sister_and_me.jpeg' # 이미지 파일의 경로\n",
    "# faces = face_client.face.detect_with_url(url=img_url,detection_model='detection_03') # 중요!\n",
    "\n",
    "# for face in faces:\n",
    "#     print(face['faceAttributes']) # 터미널 창에 속성값들을 출력\n",
    "\n",
    "# # 인식된 얼굴에 네모 박스 그리는 함수 작성\n",
    "# def getRectangle(faceDictionary):\n",
    "#     rect = faceDictionary['faceRectangle']\n",
    "#     left = rect['left']\n",
    "#     top = rect['top']\n",
    "#     bottom = left + rect['height']\n",
    "#     right = top + rect['width']\n",
    "#     return ((left, top), (bottom, right))\n",
    "\n",
    "# img = Image.open(img_url) # img 변수에 이미지 파일을 넣어준다.\n",
    "# draw = ImageDraw.Draw(img)\n",
    "# print('Drawing rectangle around face... see popup for results.')\n",
    "# for face in detected_faces:\n",
    "#     draw.rectangle(getRectangle(face), outline='red')\n",
    "\n",
    "# # Display the image in the users default image browser.\n",
    "# img.show()"
   ]
  },
  {
   "cell_type": "code",
   "execution_count": 6,
   "metadata": {},
   "outputs": [
    {
     "name": "stdout",
     "output_type": "stream",
     "text": [
      "<!DOCTYPE HTML PUBLIC \"-//W3C//DTD HTML 4.01//EN\"\"http://www.w3.org/TR/html4/strict.dtd\">\r\n",
      "<HTML><HEAD><TITLE>Service Unavailable</TITLE>\r\n",
      "<META HTTP-EQUIV=\"Content-Type\" Content=\"text/html; charset=us-ascii\"></HEAD>\r\n",
      "<BODY><h2>Service Unavailable</h2>\r\n",
      "<hr><p>HTTP Error 503. The service is unavailable.</p>\r\n",
      "</BODY></HTML>\r\n",
      "\n"
     ]
    }
   ],
   "source": [
    "########### Python 3.2 #############\n",
    "import http.client, urllib.request, urllib.parse, urllib.error, base64\n",
    "\n",
    "headers = {\n",
    "    # Request headers\n",
    "    'Content-Type': 'application/json',\n",
    "    'Ocp-Apim-Subscription-Key': KEY,\n",
    "}\n",
    "\n",
    "\n",
    "params = urllib.parse.urlencode({\n",
    "    # Request parameters\n",
    "    'returnFaceId': 'true',\n",
    "    'returnFaceLandmarks': 'false',\n",
    "    'returnFaceAttributes': '{string}',\n",
    "    'recognitionModel': 'recognition_03',\n",
    "    'returnRecognitionModel': 'false',\n",
    "    'detectionModel': 'detection_02',\n",
    "    'faceIdTimeToLive': '86400',\n",
    "})\n",
    "\n",
    "body = \"{'url': '/Users/yejoonko/dataset/SW_Project/test/sunho1.jpeg'}\"\n",
    "\n",
    "try:\n",
    "    conn = http.client.HTTPSConnection('koreacentral.api.cognitive.microsoft.com')\n",
    "    conn.request(\"POST\", \"https://\"+ENDPOINT+\"face/v1.0/detect?%s\" % params,body, headers)\n",
    "    response = conn.getresponse()\n",
    "    data = response.read().decode('utf-8')\n",
    "    print(data)\n",
    "    conn.close()\n",
    "except Exception as e:\n",
    "    print(\"[Errno {0}] {1}\".format(e.errno, e.strerror))\n",
    "\n",
    "####################################"
   ]
  },
  {
   "cell_type": "code",
   "execution_count": 5,
   "metadata": {},
   "outputs": [
    {
     "name": "stdout",
     "output_type": "stream",
     "text": [
      "{'gender': 'male', 'age': 37.0, 'emotion': {'anger': 0.936, 'contempt': 0.0, 'disgust': 0.064, 'fear': 0.0, 'happiness': 0.0, 'neutral': 0.0, 'sadness': 0.0, 'surprise': 0.0}}\n"
     ]
    }
   ],
   "source": [
    "# 나이, 성별찾아주는 친구\n",
    "import requests\n",
    "from io import BytesIO\n",
    "from PIL import Image, ImageDraw\n",
    "import cognitive_face as CF\n",
    "#pip install cognitive_face\n",
    "\n",
    "CF.Key.set(KEY)\n",
    "\n",
    "BASE_URL = 'https://koreacentral.api.cognitive.microsoft.com/face/v1.0/' # 자신의 지역에 해당하는 URL\n",
    "CF.BaseUrl.set(BASE_URL)\n",
    "\n",
    "img_url = '/Users/yejoonko/dataset/SW_Project/test/angry.jpeg' # 이미지 파일의 경로\n",
    "faces = CF.face.detect(img_url,True,False,'age,gender,emotion') # 중요!\n",
    "# detect 함수는 4가지의 매개변수를 갖는다.\n",
    "# 첫 번째 인자 : 이미지파일\n",
    "# 두 번째 인자 : face_id의 반환 여부\n",
    "# 세 번째 인자 : landmarks(눈,코,입 등의 위치)의 반환 여부\n",
    "# 네 번째 인자 : 반환할 속성(연령,성별 등)\n",
    "\n",
    "for face in faces:\n",
    "    print(face['faceAttributes']) # 터미널 창에 속성값들을 출력\n",
    "\n",
    "# 인식된 얼굴에 네모 박스 그리는 함수 작성\n",
    "def getRectangle(faceDictionary):\n",
    "    rect = faceDictionary['faceRectangle']\n",
    "    left = rect['left']\n",
    "    top = rect['top']\n",
    "    bottom = left + rect['height']\n",
    "    right = top + rect['width']\n",
    "    return ((left, top), (bottom, right))\n",
    "\n",
    "img = Image.open(img_url) # img 변수에 이미지 파일을 넣어준다.\n",
    "draw = ImageDraw.Draw(img)\n",
    "for face in faces:\n",
    "    draw.rectangle(getRectangle(face), outline='red',width=5) # 인식된 얼굴들에 네모 박스 쳐주기\n",
    "\n",
    "img.show() # 이미지 뷰어로 이미지 띄우기"
   ]
  },
  {
   "cell_type": "code",
   "execution_count": 11,
   "metadata": {},
   "outputs": [
    {
     "name": "stdout",
     "output_type": "stream",
     "text": [
      "Requirement already satisfied: cognitive_face in /Users/yejoonko/.pyenv/versions/anaconda3-5.3.1/lib/python3.7/site-packages (1.5.0)\n",
      "Requirement already satisfied: requests in /Users/yejoonko/.pyenv/versions/anaconda3-5.3.1/lib/python3.7/site-packages (from cognitive_face) (2.23.0)\n",
      "Requirement already satisfied: urllib3!=1.25.0,!=1.25.1,<1.26,>=1.21.1 in /Users/yejoonko/.pyenv/versions/anaconda3-5.3.1/lib/python3.7/site-packages (from requests->cognitive_face) (1.25.8)\n",
      "Requirement already satisfied: certifi>=2017.4.17 in /Users/yejoonko/.pyenv/versions/anaconda3-5.3.1/lib/python3.7/site-packages (from requests->cognitive_face) (2020.4.5.1)\n",
      "Requirement already satisfied: chardet<4,>=3.0.2 in /Users/yejoonko/.pyenv/versions/anaconda3-5.3.1/lib/python3.7/site-packages (from requests->cognitive_face) (3.0.4)\n",
      "Requirement already satisfied: idna<3,>=2.5 in /Users/yejoonko/.pyenv/versions/anaconda3-5.3.1/lib/python3.7/site-packages (from requests->cognitive_face) (2.9)\n",
      "\u001b[33mWARNING: You are using pip version 20.1.1; however, version 21.0.1 is available.\n",
      "You should consider upgrading via the '/Users/yejoonko/.pyenv/versions/anaconda3-5.3.1/bin/python -m pip install --upgrade pip' command.\u001b[0m\n",
      "Note: you may need to restart the kernel to use updated packages.\n"
     ]
    }
   ],
   "source": [
    "pip install cognitive_face"
   ]
  },
  {
   "cell_type": "code",
   "execution_count": null,
   "metadata": {},
   "outputs": [],
   "source": []
  }
 ],
 "metadata": {
  "kernelspec": {
   "display_name": "Python 3",
   "language": "python",
   "name": "python3"
  },
  "language_info": {
   "codemirror_mode": {
    "name": "ipython",
    "version": 3
   },
   "file_extension": ".py",
   "mimetype": "text/x-python",
   "name": "python",
   "nbconvert_exporter": "python",
   "pygments_lexer": "ipython3",
   "version": "3.7.2"
  }
 },
 "nbformat": 4,
 "nbformat_minor": 4
}
